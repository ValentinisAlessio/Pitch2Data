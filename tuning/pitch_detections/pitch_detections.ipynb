{
 "cells": [
  {
   "cell_type": "code",
   "execution_count": null,
   "id": "aa37d057-fd0b-4e80-b3d9-e1c752a08b45",
   "metadata": {},
   "outputs": [],
   "source": [
    "import os\n",
    "from dotenv import load_dotenv\n",
    "from roboflow import Roboflow\n",
    "from ultralytics import YOLO"
   ]
  },
  {
   "cell_type": "code",
   "execution_count": null,
   "id": "b65bbe93-c019-4b05-94bb-4584b3c7ceff",
   "metadata": {},
   "outputs": [],
   "source": [
    "#ENV_PATH = os.path.join(os.path.dirname(__file__), '../../', '.env') # This if .py file\n",
    "ENV_PATH = os.path.join(os.getcwd(), '../../', '.env')                # This if .ipynb file\n",
    "load_dotenv(dotenv_path=ENV_PATH)\n",
    "ROBOFLOW_API_KEY = os.getenv('ROBOFLOW_API_KEY')"
   ]
  },
  {
   "cell_type": "code",
   "execution_count": null,
   "id": "a63c60f2-7761-48c1-9eb3-c2c990f2bd05",
   "metadata": {},
   "outputs": [],
   "source": [
    "rf = Roboflow(api_key=ROBOFLOW_API_KEY)\n",
    "project = rf.workspace(\"roboflow-jvuqo\").project(\"football-players-detection-3zvbc\")\n",
    "version = project.version(11)\n",
    "dataset = version.download(\"yolov8\")"
   ]
  },
  {
   "cell_type": "code",
   "execution_count": null,
   "id": "654b1644-98e3-4840-a93d-466216a02bf6",
   "metadata": {},
   "outputs": [],
   "source": [
    "os.system(f\"sed -i 's|\\\\(train: \\\\).*|\\\\1../train/images|' {dataset.location}/data.yaml\")\n",
    "os.system(f\"sed -i 's|\\\\(val: \\\\).*|\\\\1../valid/images|' {dataset.location}/data.yaml\")"
   ]
  },
  {
   "cell_type": "code",
   "execution_count": null,
   "id": "f89430b4-203c-43ac-9f6d-dce866f7a9c4",
   "metadata": {},
   "outputs": [],
   "source": [
    "# YOLO model\n",
    "model = YOLO('yolov8x.pt')\n",
    "# Training configuration\n",
    "model.train(\n",
    "    data    = f'{dataset.location}/data.yaml',\n",
    "    task    = 'detect',\n",
    "    epochs  = 200,                          \n",
    "    imgsz   = 1280,                          \n",
    "    batch   = 16,                              \n",
    "    workers = 1,                             \n",
    "    device  = [0,1]                               \n",
    ")"
   ]
  }
 ],
 "metadata": {
  "kernelspec": {
   "display_name": "Python 3 (ipykernel)",
   "language": "python",
   "name": "python3"
  },
  "language_info": {
   "codemirror_mode": {
    "name": "ipython",
    "version": 3
   },
   "file_extension": ".py",
   "mimetype": "text/x-python",
   "name": "python",
   "nbconvert_exporter": "python",
   "pygments_lexer": "ipython3",
   "version": "3.9.18"
  }
 },
 "nbformat": 4,
 "nbformat_minor": 5
}
