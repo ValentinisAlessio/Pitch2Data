{
 "cells": [
  {
   "cell_type": "code",
   "execution_count": null,
   "id": "3f484b0e-4b57-44f1-a796-ecd73d0ea773",
   "metadata": {},
   "outputs": [],
   "source": [
    "import os\n",
    "from dotenv import load_dotenv\n",
    "from roboflow import Roboflow\n",
    "from ultralytics import YOLO"
   ]
  },
  {
   "cell_type": "code",
   "execution_count": null,
   "id": "b3fbb588-ef5b-41ce-b8e1-4de78e60f97d",
   "metadata": {},
   "outputs": [],
   "source": [
    "#ENV_PATH = os.path.join(os.path.dirname(__file__), '../../', '.env') # This if .py file\n",
    "ENV_PATH = os.path.join(os.getcwd(), '../../', '.env')                # This if .ipynb file\n",
    "load_dotenv(dotenv_path=ENV_PATH)\n",
    "ROBOFLOW_API_KEY = os.getenv('ROBOFLOW_API_KEY')"
   ]
  },
  {
   "cell_type": "code",
   "execution_count": null,
   "id": "82400111-54a4-4a92-b543-a7bbd7ae6383",
   "metadata": {},
   "outputs": [],
   "source": [
    "rf = Roboflow(api_key=ROBOFLOW_API_KEY)\n",
    "project = rf.workspace(\"roboflow-jvuqo\").project(\"football-ball-detection-rejhg\")\n",
    "version = project.version(2)\n",
    "dataset = version.download(\"yolov8\")"
   ]
  },
  {
   "cell_type": "code",
   "execution_count": null,
   "id": "753ed64e-67c6-4b5a-9339-28f29523ebb9",
   "metadata": {},
   "outputs": [],
   "source": [
    "os.system(f\"sed -i 's|\\\\(train: \\\\).*|\\\\1../train/images|' {dataset.location}/data.yaml\")\n",
    "os.system(f\"sed -i 's|\\\\(val: \\\\).*|\\\\1../valid/images|' {dataset.location}/data.yaml\")"
   ]
  },
  {
   "cell_type": "code",
   "execution_count": null,
   "id": "82828888-8d7d-4f5f-b8e1-ef049c32528d",
   "metadata": {},
   "outputs": [],
   "source": [
    "# YOLO model\n",
    "model = YOLO('yolov8x.pt')\n",
    "# Training configuration\n",
    "model.train(\n",
    "    data    = f'{dataset.location}/data.yaml',\n",
    "    task    = 'detect',\n",
    "    epochs  = 50,                            \n",
    "    imgsz   = 1280,                            \n",
    "    batch   = 12,                           \n",
    "    device  = [0,1],\n",
    "    workers = 1\n",
    ")"
   ]
  },
  {
   "cell_type": "markdown",
   "id": "0b1e1dfc-4cc0-4e01-a2b6-f56988d4059f",
   "metadata": {},
   "source": [
    "If you did not manage to conclude the training in a single cluster session, do:"
   ]
  },
  {
   "cell_type": "code",
   "execution_count": null,
   "id": "f6108995-ac7a-4579-8b07-2a416face826",
   "metadata": {},
   "outputs": [],
   "source": [
    "model = YOLO(\"runs/detect/train/weights/last.pt\")\n",
    "model.train(resume=True)"
   ]
  }
 ],
 "metadata": {
  "kernelspec": {
   "display_name": "Python 3 (ipykernel)",
   "language": "python",
   "name": "python3"
  },
  "language_info": {
   "codemirror_mode": {
    "name": "ipython",
    "version": 3
   },
   "file_extension": ".py",
   "mimetype": "text/x-python",
   "name": "python",
   "nbconvert_exporter": "python",
   "pygments_lexer": "ipython3",
   "version": "3.9.18"
  }
 },
 "nbformat": 4,
 "nbformat_minor": 5
}
